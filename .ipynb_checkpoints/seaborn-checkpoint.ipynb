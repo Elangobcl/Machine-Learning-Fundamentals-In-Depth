{
 "cells": [
  {
   "cell_type": "code",
   "execution_count": 1,
   "id": "84645d36-5178-4c44-bb5f-231bae486366",
   "metadata": {},
   "outputs": [],
   "source": [
    "import seaborn as sns\n",
    "import matplotlib"
   ]
  },
  {
   "cell_type": "code",
   "execution_count": null,
   "id": "ec69ae5e-a80b-4f5c-bc8b-5f8e8cccac51",
   "metadata": {},
   "outputs": [],
   "source": [
    "matplotlib.rcParams['figure.figsize'] = (18, 8)\n",
    "sns.barplot(x=\"num-of-cylinders\",y=\"peak-rpm\",data=df,estimator = np.median,errorbar=('ci',0))\n",
    "sns.countplot(x=\"num-of-cylinders\",data=df,palette=['blue','red','orange','yellow','green','green','white'])"
   ]
  }
 ],
 "metadata": {
  "kernelspec": {
   "display_name": "Python 3 (ipykernel)",
   "language": "python",
   "name": "python3"
  },
  "language_info": {
   "codemirror_mode": {
    "name": "ipython",
    "version": 3
   },
   "file_extension": ".py",
   "mimetype": "text/x-python",
   "name": "python",
   "nbconvert_exporter": "python",
   "pygments_lexer": "ipython3",
   "version": "3.9.1"
  }
 },
 "nbformat": 4,
 "nbformat_minor": 5
}

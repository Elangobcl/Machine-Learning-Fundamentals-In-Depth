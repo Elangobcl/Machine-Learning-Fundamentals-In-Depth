{
 "cells": [
  {
   "cell_type": "markdown",
   "id": "2944563b-0fda-4f73-bdd4-bc2274b1ca4d",
   "metadata": {
    "tags": []
   },
   "source": [
    "# Pandas CheatSheet"
   ]
  },
  {
   "cell_type": "code",
   "execution_count": 1,
   "id": "af508912-19aa-4823-b8c4-0dfc2fdfb91c",
   "metadata": {},
   "outputs": [],
   "source": [
    "import pandas as pd\n",
    "import numpy as np\n",
    "import matplotlib"
   ]
  },
  {
   "cell_type": "markdown",
   "id": "2efb6a4b-ab6a-4d96-9989-e8dd1538bce0",
   "metadata": {
    "tags": []
   },
   "source": [
    "# DataSeries\n",
    "    Its like a column in a table"
   ]
  },
  {
   "cell_type": "code",
   "execution_count": 13,
   "id": "c83b3966-7d73-4c3c-b517-e83b2a647799",
   "metadata": {},
   "outputs": [
    {
     "data": {
      "text/plain": [
       "0      0\n",
       "1    128\n",
       "2    256\n",
       "dtype: int64"
      ]
     },
     "execution_count": 13,
     "metadata": {},
     "output_type": "execute_result"
    }
   ],
   "source": [
    "color = [0,128,256]\n",
    "pd.Series(color)"
   ]
  },
  {
   "cell_type": "code",
   "execution_count": 14,
   "id": "ed1cdfea-773f-43a8-9e6a-9cb618443a6e",
   "metadata": {},
   "outputs": [
    {
     "data": {
      "text/plain": [
       "Black      0\n",
       "Grey     128\n",
       "White    256\n",
       "dtype: int64"
      ]
     },
     "execution_count": 14,
     "metadata": {},
     "output_type": "execute_result"
    }
   ],
   "source": [
    "pd.Series(color, index=[\"Black\", \"Grey\", \"White\"])"
   ]
  },
  {
   "cell_type": "markdown",
   "id": "9cc60d5d-b5e4-4543-9dea-70d293eddcaf",
   "metadata": {
    "tags": []
   },
   "source": [
    "# DataFrame\n",
    "    2 dimensional data structure, like a 2 dimensional array, or a table with rows and columns"
   ]
  },
  {
   "cell_type": "code",
   "execution_count": 2,
   "id": "0acb349b-6d27-4ac1-8ce0-ff1e7487e9c5",
   "metadata": {},
   "outputs": [
    {
     "data": {
      "text/html": [
       "<div>\n",
       "<style scoped>\n",
       "    .dataframe tbody tr th:only-of-type {\n",
       "        vertical-align: middle;\n",
       "    }\n",
       "\n",
       "    .dataframe tbody tr th {\n",
       "        vertical-align: top;\n",
       "    }\n",
       "\n",
       "    .dataframe thead th {\n",
       "        text-align: right;\n",
       "    }\n",
       "</style>\n",
       "<table border=\"1\" class=\"dataframe\">\n",
       "  <thead>\n",
       "    <tr style=\"text-align: right;\">\n",
       "      <th></th>\n",
       "      <th>C1</th>\n",
       "      <th>C2</th>\n",
       "      <th>C3</th>\n",
       "    </tr>\n",
       "  </thead>\n",
       "  <tbody>\n",
       "    <tr>\n",
       "      <th>0</th>\n",
       "      <td>0.669659</td>\n",
       "      <td>-0.028234</td>\n",
       "      <td>3.325094</td>\n",
       "    </tr>\n",
       "    <tr>\n",
       "      <th>1</th>\n",
       "      <td>-1.600615</td>\n",
       "      <td>2.103938</td>\n",
       "      <td>-0.312261</td>\n",
       "    </tr>\n",
       "    <tr>\n",
       "      <th>2</th>\n",
       "      <td>1.074631</td>\n",
       "      <td>-1.377459</td>\n",
       "      <td>-0.357009</td>\n",
       "    </tr>\n",
       "    <tr>\n",
       "      <th>3</th>\n",
       "      <td>0.607043</td>\n",
       "      <td>-0.284320</td>\n",
       "      <td>0.858130</td>\n",
       "    </tr>\n",
       "    <tr>\n",
       "      <th>4</th>\n",
       "      <td>-0.002411</td>\n",
       "      <td>1.086559</td>\n",
       "      <td>1.934851</td>\n",
       "    </tr>\n",
       "  </tbody>\n",
       "</table>\n",
       "</div>"
      ],
      "text/plain": [
       "         C1        C2        C3\n",
       "0  0.669659 -0.028234  3.325094\n",
       "1 -1.600615  2.103938 -0.312261\n",
       "2  1.074631 -1.377459 -0.357009\n",
       "3  0.607043 -0.284320  0.858130\n",
       "4 -0.002411  1.086559  1.934851"
      ]
     },
     "execution_count": 2,
     "metadata": {},
     "output_type": "execute_result"
    }
   ],
   "source": [
    "df = pd.DataFrame(np.random.randn(5,3),columns=['C1','C2','C3'])\n",
    "df"
   ]
  },
  {
   "cell_type": "code",
   "execution_count": null,
   "id": "b8f638b9-9474-4c57-a374-4001a2da1bef",
   "metadata": {},
   "outputs": [],
   "source": [
    "df.head(10) # Displays first 10 entries in the Df, default head shows first 5\n",
    "df.tail() # Default, Shows last 5 entries\n",
    "df.info() # Returns info (Rows&column, value datatype, non-null count) about the I/P Df\n",
    "df.duplicated() # Returns True if Rows are duplicated\n",
    "df.isna().sum().sort_values(ascending=False) # Sorts (desceding order, deafault ascending) sum of NaN values in each column\n",
    "df.drop(C1, axis=1) # Drops Column\n",
    "df.drop(df.iloc[:,:5],axis=1) # Drop by Indexing\n",
    "df.C1.unique() # Unique elements in the Specified column\n",
    "df.C1.nunique() # Unique No.of elements in the Specified column\n",
    "df.dtypes # dataType of each column in df\n",
    "df.columns/ df.keys() # Returns columns headings/keys\n",
    "df.C1.value_counts() # No.of occurence/mode each unique values in the column\n",
    "grp_df = df.groupby('cat_feature') # function is used to split the data into groups based on cat_feature\n",
    "grp_df.get_group('cat_feature1') # gets the values contained in the \"cat_feature1\" group\n",
    "df.rename(columns={'Existing Name':'New Name'}) # Rename coloumn Name\n",
    "pd.get_dummies(df.gender, drop_first=True) # Drops 1st coloumn to avoid dummy varaible trap\n",
    "pd.concat([df, pd.get_dummies(df['gender'], drop_first=True)], axis=1) # Concat dummies to pandas df \n",
    "## Function Application\n",
    "df.apply() # Takes function as an arg and applies to each row/column (default column, axis=1 row) of Df\n",
    "\n",
    "## Statistical Function\n",
    "df.corr() # Shows relationship between columns\n",
    "\n",
    "## Iteration\n",
    "df.iteritems() # Column value as Series Object\n",
    "df.iterrows() # Iterate over rows\n",
    "\n",
    "## Working with String data\n",
    "df.get_dummies() # One-Hot Encoding\n",
    "\n",
    "## Visualization\n",
    "df.plot.bar()\n",
    "df.plot.barh() # Horizontal bar\n",
    "df.plot.hist()\n",
    "df.diff.hist() # plots Histogram seperatley for each \n",
    "df.plot.box()\n",
    "df.plot.area()\n",
    "df.plot.scatter(x='Input', y='Output')\n",
    "df.plot.pie(subplots=True)\n",
    "#Resize using Matplotlib\n",
    "matplotlib.rcParams['figure.figsize'] = (12,6)\n",
    "\n",
    "## Merge Two DataFrame\n",
    "\n",
    "pd.merge(left_df1, right_df2, on='feature_x', how='left') #on feature/column 'feature_x' merged df will be updated on left_df1\n",
    "\n",
    "## Descriptive Statistics\n",
    "#arg (0,1) index of column\n",
    "df.count() #No.ofnon-null observations\n",
    "df.sum()\n",
    "df.mean()\n",
    "df.median()\n",
    "df.std() #Standard Deviation of values/each numerival column\n",
    "df.min()\n",
    "df.max()\n",
    "df.abs()\n",
    "df.prod()\n",
    "df.cumsum()\n",
    "df.cumprod()\n",
    "df.describe() #Summarise Descriptive stats of all Numerical columns"
   ]
  }
 ],
 "metadata": {
  "kernelspec": {
   "display_name": "Python 3 (ipykernel)",
   "language": "python",
   "name": "python3"
  },
  "language_info": {
   "codemirror_mode": {
    "name": "ipython",
    "version": 3
   },
   "file_extension": ".py",
   "mimetype": "text/x-python",
   "name": "python",
   "nbconvert_exporter": "python",
   "pygments_lexer": "ipython3",
   "version": "3.9.1"
  }
 },
 "nbformat": 4,
 "nbformat_minor": 5
}
